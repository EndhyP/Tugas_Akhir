{
  "nbformat": 4,
  "nbformat_minor": 0,
  "metadata": {
    "colab": {
      "provenance": [],
      "authorship_tag": "ABX9TyMopZ13uZt+yxyHhfXqp9eg",
      "include_colab_link": true
    },
    "kernelspec": {
      "name": "python3",
      "display_name": "Python 3"
    },
    "language_info": {
      "name": "python"
    }
  },
  "cells": [
    {
      "cell_type": "markdown",
      "metadata": {
        "id": "view-in-github",
        "colab_type": "text"
      },
      "source": [
        "<a href=\"https://colab.research.google.com/github/EndhyP/Tugas_Akhir/blob/main/Latihan/NasaBearingBoots/Nasa_Bearing_after_Bootstraps.ipynb\" target=\"_parent\"><img src=\"https://colab.research.google.com/assets/colab-badge.svg\" alt=\"Open In Colab\"/></a>"
      ]
    },
    {
      "cell_type": "code",
      "execution_count": 1,
      "metadata": {
        "id": "IS140HStoB1y"
      },
      "outputs": [],
      "source": [
        "# Import modul untuk akses dataset, mengakses dataframe, dan visualisasi\n",
        "import numpy as np\n",
        "import os\n",
        "import pandas as pd\n",
        "import matplotlib.pyplot as plt\n",
        "import scipy\n",
        "from scipy.stats import entropy\n",
        "from scipy.special import entr\n",
        "from scipy.io import loadmat\n",
        "from scipy.signal import stft\n",
        "from scipy.stats import kurtosis\n",
        "from mpl_toolkits.mplot3d import Axes3D\n",
        "import math\n",
        "import seaborn as sns"
      ]
    }
  ]
}